{
 "cells": [
  {
   "cell_type": "code",
   "execution_count": 17,
   "id": "85aa9dc2",
   "metadata": {},
   "outputs": [],
   "source": [
    "import numpy as np\n",
    "import matplotlib.pyplot as plt\n",
    "from torch.utils.data import Dataset, DataLoader\n",
    "import torch \n",
    "import torch.nn as nn\n",
    "import torch.optim as optim"
   ]
  },
  {
   "cell_type": "code",
   "execution_count": 18,
   "id": "5d17c34c",
   "metadata": {},
   "outputs": [
    {
     "data": {
      "text/plain": [
       "<torch._C.Generator at 0x17716e8ed50>"
      ]
     },
     "execution_count": 18,
     "metadata": {},
     "output_type": "execute_result"
    }
   ],
   "source": [
    "torch.manual_seed(42)"
   ]
  },
  {
   "cell_type": "code",
   "execution_count": 19,
   "id": "11872b46",
   "metadata": {},
   "outputs": [
    {
     "data": {
      "text/html": [
       "<div>\n",
       "<style scoped>\n",
       "    .dataframe tbody tr th:only-of-type {\n",
       "        vertical-align: middle;\n",
       "    }\n",
       "\n",
       "    .dataframe tbody tr th {\n",
       "        vertical-align: top;\n",
       "    }\n",
       "\n",
       "    .dataframe thead th {\n",
       "        text-align: right;\n",
       "    }\n",
       "</style>\n",
       "<table border=\"1\" class=\"dataframe\">\n",
       "  <thead>\n",
       "    <tr style=\"text-align: right;\">\n",
       "      <th></th>\n",
       "      <th>label</th>\n",
       "      <th>pixel1</th>\n",
       "      <th>pixel2</th>\n",
       "      <th>pixel3</th>\n",
       "      <th>pixel4</th>\n",
       "      <th>pixel5</th>\n",
       "      <th>pixel6</th>\n",
       "      <th>pixel7</th>\n",
       "      <th>pixel8</th>\n",
       "      <th>pixel9</th>\n",
       "      <th>...</th>\n",
       "      <th>pixel775</th>\n",
       "      <th>pixel776</th>\n",
       "      <th>pixel777</th>\n",
       "      <th>pixel778</th>\n",
       "      <th>pixel779</th>\n",
       "      <th>pixel780</th>\n",
       "      <th>pixel781</th>\n",
       "      <th>pixel782</th>\n",
       "      <th>pixel783</th>\n",
       "      <th>pixel784</th>\n",
       "    </tr>\n",
       "  </thead>\n",
       "  <tbody>\n",
       "    <tr>\n",
       "      <th>0</th>\n",
       "      <td>0</td>\n",
       "      <td>0</td>\n",
       "      <td>0</td>\n",
       "      <td>0</td>\n",
       "      <td>0</td>\n",
       "      <td>0</td>\n",
       "      <td>0</td>\n",
       "      <td>0</td>\n",
       "      <td>9</td>\n",
       "      <td>8</td>\n",
       "      <td>...</td>\n",
       "      <td>103</td>\n",
       "      <td>87</td>\n",
       "      <td>56</td>\n",
       "      <td>0</td>\n",
       "      <td>0</td>\n",
       "      <td>0</td>\n",
       "      <td>0</td>\n",
       "      <td>0</td>\n",
       "      <td>0</td>\n",
       "      <td>0</td>\n",
       "    </tr>\n",
       "    <tr>\n",
       "      <th>1</th>\n",
       "      <td>1</td>\n",
       "      <td>0</td>\n",
       "      <td>0</td>\n",
       "      <td>0</td>\n",
       "      <td>0</td>\n",
       "      <td>0</td>\n",
       "      <td>0</td>\n",
       "      <td>0</td>\n",
       "      <td>0</td>\n",
       "      <td>0</td>\n",
       "      <td>...</td>\n",
       "      <td>34</td>\n",
       "      <td>0</td>\n",
       "      <td>0</td>\n",
       "      <td>0</td>\n",
       "      <td>0</td>\n",
       "      <td>0</td>\n",
       "      <td>0</td>\n",
       "      <td>0</td>\n",
       "      <td>0</td>\n",
       "      <td>0</td>\n",
       "    </tr>\n",
       "    <tr>\n",
       "      <th>2</th>\n",
       "      <td>2</td>\n",
       "      <td>0</td>\n",
       "      <td>0</td>\n",
       "      <td>0</td>\n",
       "      <td>0</td>\n",
       "      <td>0</td>\n",
       "      <td>0</td>\n",
       "      <td>14</td>\n",
       "      <td>53</td>\n",
       "      <td>99</td>\n",
       "      <td>...</td>\n",
       "      <td>0</td>\n",
       "      <td>0</td>\n",
       "      <td>0</td>\n",
       "      <td>0</td>\n",
       "      <td>63</td>\n",
       "      <td>53</td>\n",
       "      <td>31</td>\n",
       "      <td>0</td>\n",
       "      <td>0</td>\n",
       "      <td>0</td>\n",
       "    </tr>\n",
       "    <tr>\n",
       "      <th>3</th>\n",
       "      <td>2</td>\n",
       "      <td>0</td>\n",
       "      <td>0</td>\n",
       "      <td>0</td>\n",
       "      <td>0</td>\n",
       "      <td>0</td>\n",
       "      <td>0</td>\n",
       "      <td>0</td>\n",
       "      <td>0</td>\n",
       "      <td>0</td>\n",
       "      <td>...</td>\n",
       "      <td>137</td>\n",
       "      <td>126</td>\n",
       "      <td>140</td>\n",
       "      <td>0</td>\n",
       "      <td>133</td>\n",
       "      <td>224</td>\n",
       "      <td>222</td>\n",
       "      <td>56</td>\n",
       "      <td>0</td>\n",
       "      <td>0</td>\n",
       "    </tr>\n",
       "    <tr>\n",
       "      <th>4</th>\n",
       "      <td>3</td>\n",
       "      <td>0</td>\n",
       "      <td>0</td>\n",
       "      <td>0</td>\n",
       "      <td>0</td>\n",
       "      <td>0</td>\n",
       "      <td>0</td>\n",
       "      <td>0</td>\n",
       "      <td>0</td>\n",
       "      <td>0</td>\n",
       "      <td>...</td>\n",
       "      <td>0</td>\n",
       "      <td>0</td>\n",
       "      <td>0</td>\n",
       "      <td>0</td>\n",
       "      <td>0</td>\n",
       "      <td>0</td>\n",
       "      <td>0</td>\n",
       "      <td>0</td>\n",
       "      <td>0</td>\n",
       "      <td>0</td>\n",
       "    </tr>\n",
       "  </tbody>\n",
       "</table>\n",
       "<p>5 rows × 785 columns</p>\n",
       "</div>"
      ],
      "text/plain": [
       "   label  pixel1  pixel2  pixel3  pixel4  pixel5  pixel6  pixel7  pixel8  \\\n",
       "0      0       0       0       0       0       0       0       0       9   \n",
       "1      1       0       0       0       0       0       0       0       0   \n",
       "2      2       0       0       0       0       0       0      14      53   \n",
       "3      2       0       0       0       0       0       0       0       0   \n",
       "4      3       0       0       0       0       0       0       0       0   \n",
       "\n",
       "   pixel9  ...  pixel775  pixel776  pixel777  pixel778  pixel779  pixel780  \\\n",
       "0       8  ...       103        87        56         0         0         0   \n",
       "1       0  ...        34         0         0         0         0         0   \n",
       "2      99  ...         0         0         0         0        63        53   \n",
       "3       0  ...       137       126       140         0       133       224   \n",
       "4       0  ...         0         0         0         0         0         0   \n",
       "\n",
       "   pixel781  pixel782  pixel783  pixel784  \n",
       "0         0         0         0         0  \n",
       "1         0         0         0         0  \n",
       "2        31         0         0         0  \n",
       "3       222        56         0         0  \n",
       "4         0         0         0         0  \n",
       "\n",
       "[5 rows x 785 columns]"
      ]
     },
     "execution_count": 19,
     "metadata": {},
     "output_type": "execute_result"
    }
   ],
   "source": [
    "import pandas as pd\n",
    "\n",
    "df=pd.read_csv('datasets/fashion-mnist_test.csv/fashion-mnist_test.csv')\n",
    "df.head()"
   ]
  },
  {
   "cell_type": "code",
   "execution_count": 20,
   "id": "d55052cf",
   "metadata": {},
   "outputs": [
    {
     "data": {
      "text/plain": [
       "device(type='cuda')"
      ]
     },
     "execution_count": 20,
     "metadata": {},
     "output_type": "execute_result"
    }
   ],
   "source": [
    "device=torch.device('cuda' if torch.cuda.is_available() else 'cpu')\n",
    "device"
   ]
  },
  {
   "cell_type": "code",
   "execution_count": 21,
   "id": "4ab85e1a",
   "metadata": {},
   "outputs": [
    {
     "data": {
      "image/png": "[encoded data removed]",
      "text/plain": [
       "<Figure size 1000x1000 with 16 Axes>"
      ]
     },
     "metadata": {},
     "output_type": "display_data"
    }
   ],
   "source": [
    "fig,axes= plt.subplots(4,4,figsize=(10,10) )\n",
    "for i, ax in enumerate(axes.flat):\n",
    "    img=df.iloc[i,1:].values.reshape(28,28)\n",
    "    ax.imshow(img)\n",
    "    ax.axis('off')\n",
    "    ax.set_title(f\"Label: {df.iloc[i,0]}\")\n",
    "\n",
    "plt.tight_layout(rect=[0,0,1,0.96])\n",
    "plt.show()"
   ]
  },
  {
   "cell_type": "code",
   "execution_count": 22,
   "id": "4ff0ada4",
   "metadata": {},
   "outputs": [],
   "source": [
    "X=df.iloc[:,1:].values\n",
    "y=df.iloc[:,0].values\n"
   ]
  },
  {
   "cell_type": "code",
   "execution_count": 23,
   "id": "8ce07e96",
   "metadata": {},
   "outputs": [],
   "source": [
    "from sklearn.model_selection import train_test_split\n",
    "X_train,X_test,y_train,y_test=train_test_split(X,y,test_size=0.2,random_state=42)"
   ]
  },
  {
   "cell_type": "code",
   "execution_count": 24,
   "id": "d547e2a8",
   "metadata": {},
   "outputs": [],
   "source": [
    "X_train=X_train/250\n",
    "X_test=X_test/250"
   ]
  },
  {
   "cell_type": "code",
   "execution_count": 25,
   "id": "7c69388c",
   "metadata": {},
   "outputs": [],
   "source": [
    "#custom datset\n",
    "\n",
    "class CustomDataset(Dataset):\n",
    "\n",
    "    def __init__(self,features,labels):\n",
    "        self.features=torch.tensor(features, dtype=torch.float32)   \n",
    "        self.labels=torch.tensor(labels,dtype=torch.long)\n",
    "\n",
    "    def __len__(self):\n",
    "        return len(self.labels)\n",
    "\n",
    "    def __getitem__(self,index):\n",
    "        return self.features[index],self.labels[index]"
   ]
  },
  {
   "cell_type": "code",
   "execution_count": 26,
   "id": "8d43e547",
   "metadata": {},
   "outputs": [],
   "source": [
    "#create train dataset object\n",
    "\n",
    "train_dataset=CustomDataset(X_train, y_train)\n",
    "test_dataset=CustomDataset(X_test,y_test)"
   ]
  },
  {
   "cell_type": "code",
   "execution_count": 27,
   "id": "2cae46c6",
   "metadata": {},
   "outputs": [],
   "source": [
    "#create train and test loader\n",
    "train_loader=DataLoader(train_dataset,batch_size=32,shuffle=True)\n",
    "test_loader=DataLoader(test_dataset,batch_size=32,shuffle=False)"
   ]
  },
  {
   "cell_type": "code",
   "execution_count": 28,
   "id": "f852d932",
   "metadata": {},
   "outputs": [],
   "source": [
    "#define nn class\n",
    "\n",
    "class MyNN(nn.Module):\n",
    "    def __init__(self,input_dim,output_dim,hidden_layers,neurons_per_layer):\n",
    "        super().__init__()\n",
    "        layers=[]\n",
    "\n",
    "        for i in range(hidden_layers):\n",
    "            layers.append(nn.Linear(input_dim,neurons_per_layer))\n",
    "            layers.append(nn.BatchNorm1d(neurons_per_layer))\n",
    "            layers.append(nn.ReLU())\n",
    "            layers.append(nn.Dropout(p=0.3))\n",
    "            input_dim=neurons_per_layer\n",
    "\n",
    "        layers.append(nn.Linear(neurons_per_layer,output_dim))\n",
    "\n",
    "        self.model=nn.Sequential(*layers)\n",
    "\n",
    "    def forward(self,x):\n",
    "        return self.model(x)"
   ]
  },
  {
   "cell_type": "code",
   "execution_count": 30,
   "id": "57abea94",
   "metadata": {},
   "outputs": [],
   "source": [
    "def objective(trail):\n",
    "\n",
    "    num_hidden_layers=trail.suggest_int(\"hidden_layers\",1,5)\n",
    "    neurons_per_Layer=trail.suggest_int(\"neurons_per_layers\",8,128,step=8)\n",
    "\n",
    "    input_dim=784\n",
    "    output_dim=10\n",
    "\n",
    "    model=MyNN(input_dim,output_dim,num_hidden_layers,neurons_per_Layer).to(device)\n",
    "\n",
    "    #params init\n",
    "    epochs=100\n",
    "    learning_rate=0.1\n",
    "\n",
    "    #optimizer\n",
    "    criterion=nn.CrossEntropyLoss()\n",
    "    optimizer=optim.SGD(model.parameters(),lr=learning_rate,weight_decay=1e-4)\n",
    "\n",
    "    #training loop\n",
    "\n",
    "    for epochs in range(epochs):\n",
    "        for batch_features,batch_labels in train_loader:\n",
    "            #move data to gpu\n",
    "            batch_features,batch_labels=batch_features.to(device),batch_labels.to(device)\n",
    "\n",
    "            y_pred=model(batch_features)\n",
    "\n",
    "            loss=criterion(y_pred,batch_labels)\n",
    "\n",
    "            #calculate loss\n",
    "            optimizer.zero_grad()\n",
    "            loss.backward()\n",
    "            #updating gradient\n",
    "            optimizer.step()\n",
    "\n",
    "    model.eval()\n",
    "\n",
    "    total=0\n",
    "    correct=0\n",
    "\n",
    "\n",
    "    with torch.no_grad():\n",
    "        for batch_features,batch_labels in test_loader:\n",
    "            batch_features,batch_labels =batch_features.to(device),batch_labels.to(device)\n",
    "\n",
    "            outputs=model(batch_features)\n",
    "\n",
    "            _,predicted=torch.max(outputs,1)\n",
    "            total=total+batch_labels.shape[0]\n",
    "\n",
    "            correct=correct+(predicted==batch_labels).sum().item()\n",
    "\n",
    "        \n",
    "        accuracy=correct/total\n",
    "        \n",
    "        return accuracy  "
   ]
  },
  {
   "cell_type": "code",
   "execution_count": 32,
   "id": "347d5a28",
   "metadata": {},
   "outputs": [
    {
     "name": "stderr",
     "output_type": "stream",
     "text": [
      "[I 2025-09-12 18:32:57,286] A new study created in memory with name: no-name-8c876030-a1d3-4efd-a95a-a93e7bbabacf\n"
     ]
    }
   ],
   "source": [
    "import optuna\n",
    "study=optuna.create_study(direction='maximize')"
   ]
  },
  {
   "cell_type": "code",
   "execution_count": 33,
   "id": "08f7b924",
   "metadata": {},
   "outputs": [
    {
     "name": "stderr",
     "output_type": "stream",
     "text": [
      "[I 2025-09-12 18:35:20,080] Trial 0 finished with value: 0.84 and parameters: {'hidden_layers': 4, 'neurons_per_layers': 40}. Best is trial 0 with value: 0.84.\n",
      "[I 2025-09-12 18:37:06,463] Trial 1 finished with value: 0.8615 and parameters: {'hidden_layers': 1, 'neurons_per_layers': 120}. Best is trial 1 with value: 0.8615.\n",
      "[I 2025-09-12 18:39:16,333] Trial 2 finished with value: 0.8335 and parameters: {'hidden_layers': 2, 'neurons_per_layers': 16}. Best is trial 1 with value: 0.8615.\n",
      "[I 2025-09-12 18:42:43,523] Trial 3 finished with value: 0.8485 and parameters: {'hidden_layers': 4, 'neurons_per_layers': 104}. Best is trial 1 with value: 0.8615.\n",
      "[I 2025-09-12 18:46:26,329] Trial 4 finished with value: 0.8575 and parameters: {'hidden_layers': 5, 'neurons_per_layers': 112}. Best is trial 1 with value: 0.8615.\n",
      "[I 2025-09-12 18:50:19,527] Trial 5 finished with value: 0.853 and parameters: {'hidden_layers': 5, 'neurons_per_layers': 48}. Best is trial 1 with value: 0.8615.\n",
      "[I 2025-09-12 18:53:10,809] Trial 6 finished with value: 0.8525 and parameters: {'hidden_layers': 3, 'neurons_per_layers': 56}. Best is trial 1 with value: 0.8615.\n",
      "[I 2025-09-12 18:56:01,052] Trial 7 finished with value: 0.8555 and parameters: {'hidden_layers': 3, 'neurons_per_layers': 112}. Best is trial 1 with value: 0.8615.\n",
      "[I 2025-09-12 18:59:26,468] Trial 8 finished with value: 0.8545 and parameters: {'hidden_layers': 4, 'neurons_per_layers': 96}. Best is trial 1 with value: 0.8615.\n",
      "[I 2025-09-12 19:02:41,291] Trial 9 finished with value: 0.858 and parameters: {'hidden_layers': 4, 'neurons_per_layers': 48}. Best is trial 1 with value: 0.8615.\n"
     ]
    }
   ],
   "source": [
    "study.optimize(objective,n_trials=10)"
   ]
  },
  {
   "cell_type": "code",
   "execution_count": null,
   "id": "4fd96a66",
   "metadata": {},
   "outputs": [],
   "source": []
  }
 ],
 "metadata": {
  "kernelspec": {
   "display_name": "myenv",
   "language": "python",
   "name": "python3"
  },
  "language_info": {
   "codemirror_mode": {
    "name": "ipython",
    "version": 3
   },
   "file_extension": ".py",
   "mimetype": "text/x-python",
   "name": "python",
   "nbconvert_exporter": "python",
   "pygments_lexer": "ipython3",
   "version": "3.10.9"
  }
 },
 "nbformat": 4,
 "nbformat_minor": 5
}
